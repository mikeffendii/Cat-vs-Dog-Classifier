{
 "cells": [
  {
   "cell_type": "code",
   "execution_count": 26,
   "id": "bc5f4f6a",
   "metadata": {},
   "outputs": [],
   "source": [
    "import tensorflow as tf\n",
    "from tensorflow import keras\n",
    "from tensorflow.keras.preprocessing.image import ImageDataGenerator,load_img\n",
    "from  tensorflow.keras.preprocessing import image\n",
    "import pandas as ps\n",
    "import numpy as np"
   ]
  },
  {
   "cell_type": "code",
   "execution_count": 27,
   "id": "304c6690",
   "metadata": {},
   "outputs": [],
   "source": [
    "img_size = [64,64,3]"
   ]
  },
  {
   "cell_type": "code",
   "execution_count": 28,
   "id": "356d92c4",
   "metadata": {},
   "outputs": [],
   "source": [
    "train = 'train/'\n",
    "test ='test/'"
   ]
  },
  {
   "cell_type": "code",
   "execution_count": 29,
   "id": "d09f2f8f",
   "metadata": {},
   "outputs": [],
   "source": [
    "train_datagen = ImageDataGenerator(shear_range=0.5,\n",
    "                                  rescale=1./255,\n",
    "                                  horizontal_flip=False,\n",
    "                                  zoom_range=0.3)\n",
    "test_datagen = ImageDataGenerator(rescale=1./255)"
   ]
  },
  {
   "cell_type": "code",
   "execution_count": 30,
   "id": "b7de00b6",
   "metadata": {},
   "outputs": [
    {
     "name": "stdout",
     "output_type": "stream",
     "text": [
      "Found 2000 images belonging to 2 classes.\n"
     ]
    }
   ],
   "source": [
    "training_set = train_datagen.flow_from_directory(train,target_size=(64,64),batch_size=20,\n",
    "                                                class_mode='categorical')"
   ]
  },
  {
   "cell_type": "code",
   "execution_count": 31,
   "id": "16c5606b",
   "metadata": {},
   "outputs": [
    {
     "name": "stdout",
     "output_type": "stream",
     "text": [
      "Found 1000 images belonging to 2 classes.\n"
     ]
    }
   ],
   "source": [
    "testing_set = test_datagen.flow_from_directory(test,target_size=(64,64),batch_size=20,\n",
    "                                                class_mode='categorical')"
   ]
  },
  {
   "cell_type": "code",
   "execution_count": 32,
   "id": "212f70d2",
   "metadata": {},
   "outputs": [
    {
     "data": {
      "text/plain": [
       "{'cats': 0, 'dogs': 1}"
      ]
     },
     "execution_count": 32,
     "metadata": {},
     "output_type": "execute_result"
    }
   ],
   "source": [
    "training_set.class_indices"
   ]
  },
  {
   "cell_type": "code",
   "execution_count": 33,
   "id": "2aac7b47",
   "metadata": {},
   "outputs": [],
   "source": [
    "model = keras.Sequential([\n",
    "    keras.layers.Conv2D(32,kernel_size = 3, input_shape=[64,64,3]),\n",
    "    keras.layers.MaxPool2D(pool_size=(2,2)),\n",
    "    keras.layers.Conv2D(64,kernel_size = 3),\n",
    "    keras.layers.MaxPool2D(pool_size=(2,2)),\n",
    "    keras.layers.Conv2D(128,kernel_size = 3),\n",
    "    keras.layers.MaxPool2D(pool_size=(2,2)),\n",
    "    keras.layers.Conv2D(256,kernel_size = 3),\n",
    "    keras.layers.MaxPool2D(pool_size=(2,2)),\n",
    "    \n",
    "    keras.layers.Dropout(0.5),\n",
    "    keras.layers.Flatten(),\n",
    "    keras.layers.Dense(128,activation='relu'),\n",
    "    keras.layers.Dropout(0.1),\n",
    "    keras.layers.Dense(256,activation='relu'),\n",
    "    keras.layers.Dropout(0.25),\n",
    "    keras.layers.Dense(2,activation='softmax')  \n",
    "])"
   ]
  },
  {
   "cell_type": "code",
   "execution_count": 74,
   "id": "eebded73",
   "metadata": {},
   "outputs": [],
   "source": [
    "model.compile(optimizer ='adam', loss = 'categorical_crossentropy',metrics = ['accuracy'])\n",
    "batch_size = 32,"
   ]
  },
  {
   "cell_type": "code",
   "execution_count": 35,
   "id": "1f83509b",
   "metadata": {},
   "outputs": [
    {
     "name": "stdout",
     "output_type": "stream",
     "text": [
      "Epoch 1/30\n",
      "50/50 [==============================] - 10s 170ms/step - loss: 0.7275 - accuracy: 0.5060 - val_loss: 0.6940 - val_accuracy: 0.5010\n",
      "Epoch 2/30\n",
      "50/50 [==============================] - 11s 224ms/step - loss: 0.6863 - accuracy: 0.5520 - val_loss: 0.6714 - val_accuracy: 0.5790\n",
      "Epoch 3/30\n",
      "50/50 [==============================] - 11s 216ms/step - loss: 0.6941 - accuracy: 0.5360 - val_loss: 0.6865 - val_accuracy: 0.5380\n",
      "Epoch 4/30\n",
      "50/50 [==============================] - 10s 208ms/step - loss: 0.6992 - accuracy: 0.5440 - val_loss: 0.6826 - val_accuracy: 0.5800\n",
      "Epoch 5/30\n",
      "50/50 [==============================] - 10s 205ms/step - loss: 0.6862 - accuracy: 0.5600 - val_loss: 0.6725 - val_accuracy: 0.5770\n",
      "Epoch 6/30\n",
      "50/50 [==============================] - 10s 205ms/step - loss: 0.6864 - accuracy: 0.5770 - val_loss: 0.6810 - val_accuracy: 0.5050\n",
      "Epoch 7/30\n",
      "50/50 [==============================] - 12s 232ms/step - loss: 0.6623 - accuracy: 0.6110 - val_loss: 0.6342 - val_accuracy: 0.6560\n",
      "Epoch 8/30\n",
      "50/50 [==============================] - 11s 215ms/step - loss: 0.6283 - accuracy: 0.6610 - val_loss: 0.7234 - val_accuracy: 0.5820\n",
      "Epoch 9/30\n",
      "50/50 [==============================] - 12s 242ms/step - loss: 0.6531 - accuracy: 0.6230 - val_loss: 0.6454 - val_accuracy: 0.6330\n",
      "Epoch 10/30\n",
      "50/50 [==============================] - 11s 221ms/step - loss: 0.6299 - accuracy: 0.6480 - val_loss: 0.6254 - val_accuracy: 0.6570\n",
      "Epoch 11/30\n",
      "50/50 [==============================] - 11s 223ms/step - loss: 0.6166 - accuracy: 0.6570 - val_loss: 0.6357 - val_accuracy: 0.6420\n",
      "Epoch 12/30\n",
      "50/50 [==============================] - 11s 213ms/step - loss: 0.6005 - accuracy: 0.6680 - val_loss: 0.6046 - val_accuracy: 0.6750\n",
      "Epoch 13/30\n",
      "50/50 [==============================] - 10s 207ms/step - loss: 0.5813 - accuracy: 0.7020 - val_loss: 0.6350 - val_accuracy: 0.6700\n",
      "Epoch 14/30\n",
      "50/50 [==============================] - 10s 201ms/step - loss: 0.5887 - accuracy: 0.7010 - val_loss: 0.5903 - val_accuracy: 0.6780\n",
      "Epoch 15/30\n",
      "50/50 [==============================] - 10s 192ms/step - loss: 0.5668 - accuracy: 0.7030 - val_loss: 0.6132 - val_accuracy: 0.6690\n",
      "Epoch 16/30\n",
      "50/50 [==============================] - 11s 214ms/step - loss: 0.5727 - accuracy: 0.7160 - val_loss: 0.5858 - val_accuracy: 0.6810\n",
      "Epoch 17/30\n",
      "50/50 [==============================] - 11s 215ms/step - loss: 0.5306 - accuracy: 0.7420 - val_loss: 0.6279 - val_accuracy: 0.6890\n",
      "Epoch 18/30\n",
      "50/50 [==============================] - 10s 203ms/step - loss: 0.5382 - accuracy: 0.7260 - val_loss: 0.6018 - val_accuracy: 0.6730\n",
      "Epoch 19/30\n",
      "50/50 [==============================] - 11s 221ms/step - loss: 0.5517 - accuracy: 0.7120 - val_loss: 0.6644 - val_accuracy: 0.6650\n",
      "Epoch 20/30\n",
      "50/50 [==============================] - 10s 199ms/step - loss: 0.5333 - accuracy: 0.7530 - val_loss: 0.5898 - val_accuracy: 0.6860\n",
      "Epoch 21/30\n",
      "50/50 [==============================] - 10s 196ms/step - loss: 0.5291 - accuracy: 0.7340 - val_loss: 0.6047 - val_accuracy: 0.6930\n",
      "Epoch 22/30\n",
      "50/50 [==============================] - 11s 215ms/step - loss: 0.5177 - accuracy: 0.7390 - val_loss: 0.6207 - val_accuracy: 0.6990\n",
      "Epoch 23/30\n",
      "50/50 [==============================] - 10s 209ms/step - loss: 0.5282 - accuracy: 0.7360 - val_loss: 0.5651 - val_accuracy: 0.7070\n",
      "Epoch 24/30\n",
      "50/50 [==============================] - 10s 198ms/step - loss: 0.5041 - accuracy: 0.7510 - val_loss: 0.5550 - val_accuracy: 0.7140\n",
      "Epoch 25/30\n",
      "50/50 [==============================] - 10s 198ms/step - loss: 0.4931 - accuracy: 0.7630 - val_loss: 0.5776 - val_accuracy: 0.7050\n",
      "Epoch 26/30\n",
      "50/50 [==============================] - 10s 199ms/step - loss: 0.4801 - accuracy: 0.7730 - val_loss: 0.5491 - val_accuracy: 0.7140\n",
      "Epoch 27/30\n",
      "50/50 [==============================] - 10s 195ms/step - loss: 0.4785 - accuracy: 0.7680 - val_loss: 0.6031 - val_accuracy: 0.6870\n",
      "Epoch 28/30\n",
      "50/50 [==============================] - 9s 188ms/step - loss: 0.4900 - accuracy: 0.7530 - val_loss: 0.5538 - val_accuracy: 0.7320\n",
      "Epoch 29/30\n",
      "50/50 [==============================] - 9s 188ms/step - loss: 0.4445 - accuracy: 0.7780 - val_loss: 0.7468 - val_accuracy: 0.7120\n",
      "Epoch 30/30\n",
      "50/50 [==============================] - 9s 188ms/step - loss: 0.4414 - accuracy: 0.7990 - val_loss: 0.6876 - val_accuracy: 0.7060\n"
     ]
    },
    {
     "data": {
      "text/plain": [
       "<keras.callbacks.History at 0x1bce9f14dc0>"
      ]
     },
     "execution_count": 35,
     "metadata": {},
     "output_type": "execute_result"
    }
   ],
   "source": [
    "model.fit(training_set,validation_data=testing_set,\n",
    "         steps_per_epoch=len(testing_set),\n",
    "         epochs=30,\n",
    "         validation_steps=len(testing_set))"
   ]
  },
  {
   "cell_type": "code",
   "execution_count": 36,
   "id": "953ca9fe",
   "metadata": {},
   "outputs": [],
   "source": [
    "model.save('Cat_Dog_Classifier.h5')"
   ]
  },
  {
   "cell_type": "code",
   "execution_count": 37,
   "id": "402509ce",
   "metadata": {},
   "outputs": [],
   "source": [
    "model1 = keras.models.load_model(\"Cat_Dog_Classifier.h5\")"
   ]
  },
  {
   "cell_type": "code",
   "execution_count": 68,
   "id": "95e330dc",
   "metadata": {},
   "outputs": [],
   "source": [
    "cat_img_path = 'test/cats/cat.1633.jpg'"
   ]
  },
  {
   "cell_type": "code",
   "execution_count": 69,
   "id": "36ac16d8",
   "metadata": {},
   "outputs": [
    {
     "data": {
      "image/png": "[encoded data removed]",
      "text/plain": [
       "<PIL.Image.Image image mode=RGB size=64x64 at 0x1BCEBC34A60>"
      ]
     },
     "execution_count": 69,
     "metadata": {},
     "output_type": "execute_result"
    }
   ],
   "source": [
    "img = image.load_img(cat_img_path,target_size=(64,64))\n",
    "img"
   ]
  },
  {
   "cell_type": "code",
   "execution_count": 70,
   "id": "06e5963b",
   "metadata": {
    "scrolled": true
   },
   "outputs": [
    {
     "name": "stdout",
     "output_type": "stream",
     "text": [
      "1/1 [==============================] - 0s 21ms/step\n",
      "CAT\n"
     ]
    }
   ],
   "source": [
    "x =image.img_to_array(img)\n",
    "x = x/255\n",
    "x =np.expand_dims(x,axis=0)\n",
    "pred = np.argmax(model1.predict(x)[0],axis=0)\n",
    "\n",
    "if pred == 0:\n",
    "    print('CAT')\n",
    "else:\n",
    "    print(\"DOG\")"
   ]
  },
  {
   "cell_type": "code",
   "execution_count": null,
   "id": "d1ace0c8",
   "metadata": {},
   "outputs": [],
   "source": []
  },
  {
   "cell_type": "code",
   "execution_count": 71,
   "id": "4258595c",
   "metadata": {},
   "outputs": [],
   "source": [
    "dog_img_path = 'test/dogs/dog.1632.jpg'"
   ]
  },
  {
   "cell_type": "code",
   "execution_count": 72,
   "id": "90751444",
   "metadata": {},
   "outputs": [
    {
     "data": {
      "image/png": "[encoded data removed]",
      "text/plain": [
       "<PIL.Image.Image image mode=RGB size=64x64 at 0x1BCEBC65220>"
      ]
     },
     "execution_count": 72,
     "metadata": {},
     "output_type": "execute_result"
    }
   ],
   "source": [
    "img = image.load_img(dog_img_path,target_size=(64,64))\n",
    "img"
   ]
  },
  {
   "cell_type": "code",
   "execution_count": 73,
   "id": "acd811db",
   "metadata": {},
   "outputs": [
    {
     "name": "stdout",
     "output_type": "stream",
     "text": [
      "1/1 [==============================] - 0s 23ms/step\n",
      "DOG\n"
     ]
    }
   ],
   "source": [
    "x =image.img_to_array(img)\n",
    "x = x/255\n",
    "x =np.expand_dims(x,axis=0)\n",
    "pred = np.argmax(model1.predict(x)[0],axis=0)\n",
    "\n",
    "if pred == 1:\n",
    "    print('DOG')\n",
    "else:\n",
    "    print(\"CAT\")"
   ]
  }
 ],
 "metadata": {
  "kernelspec": {
   "display_name": "Python 3 (ipykernel)",
   "language": "python",
   "name": "python3"
  },
  "language_info": {
   "codemirror_mode": {
    "name": "ipython",
    "version": 3
   },
   "file_extension": ".py",
   "mimetype": "text/x-python",
   "name": "python",
   "nbconvert_exporter": "python",
   "pygments_lexer": "ipython3",
   "version": "3.9.7"
  }
 },
 "nbformat": 4,
 "nbformat_minor": 5
}
